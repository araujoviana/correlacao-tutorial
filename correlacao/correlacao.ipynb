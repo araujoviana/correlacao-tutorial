{
  "cells": [
    {
      "cell_type": "code",
      "execution_count": null,
      "metadata": {
        "id": "T1ZToNl1TUYb"
      },
      "outputs": [],
      "source": [
        "# Só pra usar raiz quadrada mesmo.\n",
        "from math import sqrt as raiz_quadrada"
      ]
    },
    {
      "cell_type": "markdown",
      "metadata": {
        "id": "X6osJ2o0m3fZ"
      },
      "source": [
        "A fórmula da correlação é dada por:\n",
        "$$ r = \\frac{1}{n-1}∑\\bigg(\\frac{x_i - \\bar{x}}{s_x}\\bigg)\\bigg(\\frac{y_i - \\bar{y}}{s_y}\\bigg) $$\n",
        "Dado:\n",
        "$$ n = \\text{Número total de elementos das listas (presumindo que as duas listas possuem o mesmo tamanho)} \\\\ x_i = \\text{Elemento na posição i da lista x} \\\\ \\bar{x} = \\text{Média da lista x} \\\\ s_x = \\text{Desvio padrão da lista x} \\\\\n",
        " y_i = \\text{Elemento na posição i da lista y} \\\\ \\bar{y} = \\text{Média da lista y} \\\\ s_y = \\text{Desvio padrão da lista y} \\\\ $$"
      ]
    },
    {
      "cell_type": "markdown",
      "metadata": {
        "id": "lgisRPA_tOJY"
      },
      "source": [
        "A correlação pode ser calculada a partir do seguinte passo a passo:\n",
        "## 1- Definir as duas listas"
      ]
    },
    {
      "cell_type": "code",
      "execution_count": null,
      "metadata": {
        "id": "3kBNwu4LRBGw"
      },
      "outputs": [],
      "source": [
        "# Os valores das listas podem ser alterados para cada exemplo\n",
        "\n",
        "lista_x = [0.1,0.3,0.4,0.5,0.6,0.8,1.1]\n",
        "lista_y = [20,30,22,30,38,23,30]"
      ]
    },
    {
      "cell_type": "markdown",
      "metadata": {
        "id": "JkPUWNSztAuO"
      },
      "source": [
        "## 2- Calcular as médias aritméticas\n"
      ]
    },
    {
      "cell_type": "code",
      "execution_count": null,
      "metadata": {
        "id": "kNbLNO7vReOE"
      },
      "outputs": [],
      "source": [
        "def calcular_media(lista):\n",
        "  soma = 0\n",
        "  print(f\"Soma dos elementos da lista: \",end='')\n",
        "\n",
        "  # Calcula a soma dos elementos da lista\n",
        "  for i in range(len(lista)):\n",
        "      soma += lista[i]\n",
        "      if i < len(lista) - 1:\n",
        "          print(f\"{lista[i]} +\", end=' ')\n",
        "      else:\n",
        "          print(lista[i], end=' ')\n",
        "  soma = soma\n",
        "  print(f\"= {round(soma,3)}\")\n",
        "\n",
        "  # Mostra e retorna a média da lista\n",
        "  media = soma / len(lista)\n",
        "  print(f\"Média = {round(soma,3)} / {len(lista)} = {round(media,3)}\\n\")\n",
        "  return media"
      ]
    },
    {
      "cell_type": "code",
      "execution_count": null,
      "metadata": {
        "colab": {
          "base_uri": "https://localhost:8080/"
        },
        "id": "p879qlgTR7PB",
        "outputId": "c0919b32-1741-4fa2-f32a-a1765b85ffe6"
      },
      "outputs": [],
      "source": [
        "media_x = calcular_media(lista_x)\n",
        "media_y = calcular_media(lista_y)"
      ]
    },
    {
      "cell_type": "markdown",
      "metadata": {
        "id": "WfggLKuQwg9P"
      },
      "source": [
        "## 3- Calcular os desvios padrões\n",
        "O desvio padrão é dado por:\n",
        "$$ \\text{D}_\\text{p}= \\sqrt{\\frac{\\sum (x_i - \\bar{x})^2}{n-1}}\n",
        " $$"
      ]
    },
    {
      "cell_type": "code",
      "execution_count": null,
      "metadata": {
        "id": "GdjCW2V1SqaC"
      },
      "outputs": [],
      "source": [
        "def calcular_desvio_padrao(lista, media):\n",
        "  soma_desvios_elevados = 0\n",
        "\n",
        "  print(\"1- Calculando os desvios e elevando eles ao quadrado: \\n\")\n",
        "  for i in range(len(lista)):\n",
        "    desvio = (lista[i] - media)\n",
        "    print(f\"{lista[i]} - {round(media,3)} = {round(desvio,3)}\")\n",
        "    desvio **= 2\n",
        "    print(f\"Desvio elevado ao quadrado = {round(desvio,3)}\\n\")\n",
        "    soma_desvios_elevados += desvio\n",
        "\n",
        "  print(f\"Soma dos desvios elevados ao quadrado: {round(soma_desvios_elevados,3)}\\n\\n2- Dividindo a soma dos desvios pelo tamanho da lista - 1\\n\\nIsso resulta na variância:\")\n",
        "\n",
        "  variancia = soma_desvios_elevados/(len(lista)-1)\n",
        "  print(f\"{round(soma_desvios_elevados,3)} / {len(lista) - 1} = {round(variancia,3)}\")\n",
        "  print(f\"Variância = {round(variancia,3)}\\n\\n3- Calculando a raiz quadrada da variância (o desvio padrão)\\n\")\n",
        "\n",
        "  desvio_padrao = raiz_quadrada(variancia)\n",
        "  print(f\"Desvio padrão: √{round(variancia,3)} = {round(desvio_padrao,3)}\\n\")\n",
        "  return desvio_padrao\n"
      ]
    },
    {
      "cell_type": "code",
      "execution_count": null,
      "metadata": {
        "colab": {
          "base_uri": "https://localhost:8080/"
        },
        "id": "770PmHS0SZgF",
        "outputId": "26b3fd04-8f48-4d6c-b885-33d6183c9bdd"
      },
      "outputs": [],
      "source": [
        "desvio_padrao_x = calcular_desvio_padrao(lista_x,media_x)"
      ]
    },
    {
      "cell_type": "code",
      "execution_count": null,
      "metadata": {
        "colab": {
          "base_uri": "https://localhost:8080/"
        },
        "id": "Ty1TL1g11iKu",
        "outputId": "b0a908de-abc0-4bf3-8b69-1ec81822269b"
      },
      "outputs": [],
      "source": [
        "desvio_padrao_y = calcular_desvio_padrao(lista_y,media_y)"
      ]
    },
    {
      "cell_type": "markdown",
      "metadata": {
        "id": "KgguScHq4Erx"
      },
      "source": [
        "# E finalmente...\n",
        "## 3- Calcular a correlação\n",
        "$$ r = \\frac{1}{n-1}∑\\bigg(\\frac{x_i - \\bar{x}}{s_x}\\bigg)\\bigg(\\frac{y_i - \\bar{y}}{s_y}\\bigg) $$"
      ]
    },
    {
      "cell_type": "code",
      "execution_count": null,
      "metadata": {
        "id": "OYl5dmyKUOkm"
      },
      "outputs": [],
      "source": [
        "# Essa é grande\n",
        "def calcular_correlacao(x,media_x,s_x,y,media_y,s_y,n):\n",
        "  soma = 0\n",
        "\n",
        "  # Isso faz exatamente o que o sigma faz\n",
        "  for i in range(n):\n",
        "    # O loop faz isso para cada elemento na posição i das listas x e y\n",
        "\n",
        "    lado_x = ((x[i] - media_x) / s_x)\n",
        "    lado_y = ((y[i] - media_y) / s_y)\n",
        "\n",
        "    soma += lado_x * lado_y\n",
        "\n",
        "    print(f\"({x[i]} - {round(media_x,3)} / {round(s_x,3)} = {round(lado_x,3)})\")\n",
        "    print(f\"({y[i]} - {round(media_y,3)} / {round(s_y,3)} = {round(lado_y,3)})\")\n",
        "    print(f\"{round(lado_x,3)} * {round(lado_y,3)} = {round(lado_x+lado_y,3)}\\n\")\n",
        "\n",
        "  # Finalmente, encontramos a correlação\n",
        "  correlacao = soma / (n-1)\n",
        "  print(f\"Correlação: {round(soma,3)} / {n-1} = {round(correlacao,3)}, ou, por extenso: {correlacao}\")\n",
        "  return correlacao"
      ]
    },
    {
      "cell_type": "code",
      "execution_count": null,
      "metadata": {
        "colab": {
          "base_uri": "https://localhost:8080/"
        },
        "id": "SEPfbYEjVX6T",
        "outputId": "331e50f6-eea0-4c53-ca54-6d0c22164ea2"
      },
      "outputs": [],
      "source": [
        "correlacao = calcular_correlacao(lista_x, media_x,desvio_padrao_x, lista_y, media_y, desvio_padrao_y, len(lista_x))"
      ]
    }
  ],
  "metadata": {
    "colab": {
      "provenance": []
    },
    "kernelspec": {
      "display_name": "Python 3",
      "name": "python3"
    },
    "language_info": {
      "name": "python",
      "version": "3.11.8"
    }
  },
  "nbformat": 4,
  "nbformat_minor": 0
}
